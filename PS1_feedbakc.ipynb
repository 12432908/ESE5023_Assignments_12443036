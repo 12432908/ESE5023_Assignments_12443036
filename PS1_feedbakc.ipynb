{
 "cells": [
  {
   "cell_type": "markdown",
   "id": "ee479a1e-8763-4783-8547-3d430f24a88b",
   "metadata": {},
   "source": [
    "### 这个单元格给助教，请忽略!\n",
    "\n",
    "### Score: 106\n",
    "\n",
    "### Comment:\n",
    "Q1.[11]Good!\n",
    "\n",
    "Q2.[11]Good job!\n",
    "\n",
    "Q3.[16.5+5.5]Good job!\n",
    "\n",
    "Q4.[5.5+14+4]4.2数学逻辑有误，4.3缺少对图的分析\n",
    "\n",
    "Q5.[5.5+27.5+5.5]Good job!\n",
    "\n",
    "请实现每个 function 内容，确保最终提交的notebook是可以运行的。\n",
    "\n",
    "每一题除了必须要报告的 输出/图表，可以添加解释（中文即可）。此外可以自定义其他 function / 变量，自由添加单元格，但请确保题目中给出的 function （如第一题的 Print_values）可以正常调用。"
   ]
  },
  {
   "cell_type": "code",
   "execution_count": 12,
   "id": "5fb20c82-4f3e-49aa-9502-ff200f6f992b",
   "metadata": {},
   "outputs": [
    {
     "name": "stdout",
     "output_type": "stream",
     "text": [
      "Result: 5 (a > b > c)\n"
     ]
    }
   ],
   "source": [
    "# 1\n",
    "def Print_values(a, b, c):\n",
    "    if a > b:\n",
    "        if b > c:\n",
    "            # case: a > b > c\n",
    "            result = a + b - 10 * c\n",
    "            print(f\"Result: {result} (a > b > c)\")\n",
    "        else:\n",
    "            if a > c:\n",
    "                # case: a > c >= b\n",
    "                result = a + c - 10 * b\n",
    "                print(f\"Result: {result} (a > c >= b)\")\n",
    "            else:\n",
    "                # case: c >= a > b\n",
    "                result = c + a - 10 * b\n",
    "                print(f\"Result: {result} (c >= a > b)\")\n",
    "    else:\n",
    "        if b > c:\n",
    "            if a > c:\n",
    "                # case: b > a > c\n",
    "                result = b + a - 10 * c\n",
    "                print(f\"Result: {result} (b > a > c)\")\n",
    "            else:\n",
    "                # case: b > c >= a\n",
    "                result = b + c - 10 * a\n",
    "                print(f\"Result: {result} (b > c >= a)\")\n",
    "        else:\n",
    "            # case: c >= b >= a\n",
    "            result = c + b - 10 * a\n",
    "            print(f\"Result: {result} (c >= b >= a)\")\n",
    "\n",
    "# Test with a = 10, b = 5, c = 1\n",
    "Print_values(10, 5, 1)"
   ]
  },
  {
   "cell_type": "code",
   "execution_count": 14,
   "id": "649babd3-708f-4ad7-a64e-2cd618e169b9",
   "metadata": {},
   "outputs": [
    {
     "name": "stdout",
     "output_type": "stream",
     "text": [
      "[1, 5, 7, 13, 15, 305]\n"
     ]
    }
   ],
   "source": [
    "# 2\n",
    "import math\n",
    "\n",
    "a = {1: 1}  # Base case: F(1) = 1\n",
    "\n",
    "def F(x):\n",
    "    if x in a:\n",
    "        return a[x]\n",
    "    else:\n",
    "        a[x] = F(math.ceil(x / 3)) + 2 * x\n",
    "        return a[x]\n",
    "\n",
    "def compute_values(lst):\n",
    "    return [F(x) for x in lst]\n",
    "\n",
    "# Example usage:\n",
    "# lst = [10, 15, 20]  # Input list\n",
    "lst = [1, 2, 3, 4, 5, 100]\n",
    "result = compute_values(lst)\n",
    "print(result)"
   ]
  },
  {
   "cell_type": "code",
   "execution_count": 15,
   "id": "a6bf9437-3d76-4834-b4a8-ddeab003cb1d",
   "metadata": {},
   "outputs": [
    {
     "data": {
      "text/plain": [
       "4395456"
      ]
     },
     "execution_count": 15,
     "metadata": {},
     "output_type": "execute_result"
    }
   ],
   "source": [
    "# 3.1\n",
    "def Find_number_of_ways(n, x):\n",
    "    dp = [[0] * (x + 1) for _ in range(n + 1)]\n",
    "    dp[0][0] = 1 \n",
    "    \n",
    "    for i in range(1, n + 1):\n",
    "        for j in range(1, x + 1):\n",
    "            dp[i][j] = sum(dp[i-1][j-k] for k in range(1, 7) if j - k >= 0)\n",
    "    \n",
    "    return dp[n][x]\n",
    "\n",
    "Find_number_of_ways(10, 35)"
   ]
  },
  {
   "cell_type": "code",
   "execution_count": 19,
   "id": "a1924826-ba57-446d-bd41-a90e0bc9cb0f",
   "metadata": {},
   "outputs": [
    {
     "name": "stdout",
     "output_type": "stream",
     "text": [
      "The sum 35 yields the maximum number of ways: 4395456\n"
     ]
    }
   ],
   "source": [
    "# 3.2\n",
    "def Find_max_number_of_ways():\n",
    "    Number_of_ways = [] \n",
    "    n = 10 \n",
    "    for x in range(10, 61):\n",
    "        ways = Find_number_of_ways(n, x)\n",
    "        Number_of_ways.append(ways)\n",
    "    \n",
    "    max_ways = max(Number_of_ways)\n",
    "    max_x = 10 + Number_of_ways.index(max_ways)\n",
    "    \n",
    "    return Number_of_ways, max_x, max_ways\n",
    "\n",
    "# Example usage:\n",
    "Number_of_ways, max_x, max_ways = Find_max_number_of_ways()\n",
    "print(f\"The sum {max_x} yields the maximum number of ways: {max_ways}\")"
   ]
  },
  {
   "cell_type": "code",
   "execution_count": 23,
   "id": "c17d1f1b-89ba-4a4b-91a6-ea2a5e6fc191",
   "metadata": {},
   "outputs": [
    {
     "name": "stdout",
     "output_type": "stream",
     "text": [
      "随机生成的数组:  [10, 9, 5, 1, 4]\n"
     ]
    }
   ],
   "source": [
    "# 4.1\n",
    "import random\n",
    "\n",
    "def Random_integer(N):\n",
    "    return [random.randint(0, 10) for _ in range(N)]\n",
    "\n",
    "array = Random_integer(5)\n",
    "print(\"随机生成的数组: \", array)"
   ]
  },
  {
   "cell_type": "code",
   "execution_count": 25,
   "id": "7435ef68-6c4a-4254-b8ed-b89d67822ba2",
   "metadata": {},
   "outputs": [
    {
     "name": "stdout",
     "output_type": "stream",
     "text": [
      "所有子集平均值的总和:  8.0\n"
     ]
    }
   ],
   "source": [
    "# 4.2\n",
    "def Sum_averages(array):\n",
    "    N = len(array)\n",
    "    if N == 0:\n",
    "        return 0\n",
    "    # NOTE: 数学逻辑有误，先平均再加和不等于先加和再除以数组长度 -1\n",
    "    total_sum = sum(array)\n",
    "    return (total_sum * (2**(N-1))) / N\n",
    "\n",
    "array = [1, 2, 3]\n",
    "print(\"所有子集平均值的总和: \", Sum_averages(array)) \n"
   ]
  },
  {
   "cell_type": "code",
   "execution_count": null,
   "id": "121a0732-1225-48ab-bae6-574417fa9b10",
   "metadata": {},
   "outputs": [],
   "source": [
    "import matplotlib.pyplot as plt\n",
    "\n",
    "Total_sum_averages = []\n",
    "\n",
    "for N in range(1, 101):\n",
    "    array = Random_integer(N)  \n",
    "    total_sum = Sum_averages(array) \n",
    "    Total_sum_averages.append(total_sum)  \n",
    "\n",
    "# 绘制 Total_sum_averages\n",
    "plt.plot(range(1, 101), Total_sum_averages, marker='o')\n",
    "plt.title('Sum of Averages of Subsets for N from 1 to 100')\n",
    "plt.xlabel('N (Array Size)')\n",
    "plt.ylabel('Sum of Averages')\n",
    "plt.grid(True)\n",
    "# NOTE: 缺少对图的分析 -1\n",
    "plt.show()"
   ]
  },
  {
   "cell_type": "code",
   "execution_count": 60,
   "id": "e5d8870a-bed4-4de0-9cee-8747dfa01139",
   "metadata": {},
   "outputs": [
    {
     "data": {
      "text/plain": [
       "array([[1, 0, 0, 0],\n",
       "       [0, 1, 0, 0],\n",
       "       [0, 0, 0, 1],\n",
       "       [0, 1, 0, 1]])"
      ]
     },
     "execution_count": 60,
     "metadata": {},
     "output_type": "execute_result"
    }
   ],
   "source": [
    "# 5.1\n",
    "import random\n",
    "import numpy as np\n",
    "\n",
    "def create_matrix(N, M):\n",
    "    matrix = np.random.randint(0, 2, size=(N, M)) \n",
    "    matrix[0][0] = 1  \n",
    "    matrix[N-1][M-1] = 1  \n",
    "    return matrix\n",
    "\n",
    "create_matrix(4, 4)"
   ]
  },
  {
   "cell_type": "code",
   "execution_count": 65,
   "id": "bdaf0904-9c92-4b3a-816f-453e09245d55",
   "metadata": {},
   "outputs": [
    {
     "name": "stdout",
     "output_type": "stream",
     "text": [
      "[[1 0 0 0]\n",
      " [1 1 0 0]\n",
      " [1 0 1 0]\n",
      " [1 1 1 1]]\n"
     ]
    },
    {
     "data": {
      "text/plain": [
       "1"
      ]
     },
     "execution_count": 65,
     "metadata": {},
     "output_type": "execute_result"
    }
   ],
   "source": [
    "# 5.2\n",
    "def Count_path(matrix, N, M):\n",
    "    dp = [[0] * M for _ in range(N)]\n",
    "    \n",
    "    if matrix[0][0] == 0:\n",
    "        return 0\n",
    "    \n",
    "    dp[0][0] = 1\n",
    "    \n",
    "    for i in range(N):\n",
    "        for j in range(M):\n",
    "            if matrix[i][j] == 1:  \n",
    "                if i > 0:\n",
    "                    dp[i][j] += dp[i-1][j]\n",
    "                if j > 0:\n",
    "                    dp[i][j] += dp[i][j-1]\n",
    "\n",
    "    return dp[N-1][M-1]\n",
    "\n",
    "matrix = create_matrix(4, 4)\n",
    "print(matrix)\n",
    "Count_path(matrix, 4, 4)"
   ]
  },
  {
   "cell_type": "code",
   "execution_count": 76,
   "id": "88445995-dea8-472e-8b68-a69dff430013",
   "metadata": {},
   "outputs": [
    {
     "name": "stdout",
     "output_type": "stream",
     "text": [
      "The mean number of paths over 1000 trials is: 0.219\n"
     ]
    }
   ],
   "source": [
    "# 5.3\n",
    "def run_simulation(N, M, num_trials):\n",
    "    total_paths = []\n",
    "    for _ in range(num_trials):\n",
    "        matrix = create_matrix(N, M)  \n",
    "        paths = Count_path(matrix, N, M)  \n",
    "        total_paths.append(paths)\n",
    "    \n",
    "    mean_paths = np.mean(total_paths)\n",
    "    return mean_paths, total_paths\n",
    "\n",
    "# Example usage\n",
    "N = 10\n",
    "M = 8\n",
    "num_trials = 1000\n",
    "\n",
    "mean_paths, all_paths = run_simulation(N, M, num_trials)\n",
    "print(f\"The mean number of paths over {num_trials} trials is: {mean_paths}\")"
   ]
  },
  {
   "cell_type": "code",
   "execution_count": null,
   "id": "ecea93a4-f91b-4020-903d-f6d1132bdf15",
   "metadata": {},
   "outputs": [],
   "source": []
  }
 ],
 "metadata": {
  "kernelspec": {
   "display_name": "Python 3 (ipykernel)",
   "language": "python",
   "name": "python3"
  },
  "language_info": {
   "codemirror_mode": {
    "name": "ipython",
    "version": 3
   },
   "file_extension": ".py",
   "mimetype": "text/x-python",
   "name": "python",
   "nbconvert_exporter": "python",
   "pygments_lexer": "ipython3",
   "version": "3.12.7"
  }
 },
 "nbformat": 4,
 "nbformat_minor": 5
}
