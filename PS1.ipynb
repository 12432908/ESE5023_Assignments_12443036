{
 "cells": [
  {
   "cell_type": "code",
   "execution_count": 1,
   "id": "5fb20c82-4f3e-49aa-9502-ff200f6f992b",
   "metadata": {},
   "outputs": [
    {
     "name": "stdout",
     "output_type": "stream",
     "text": [
      "Result: 5 (a > b > c)\n"
     ]
    }
   ],
   "source": [
    "def Print_values(a, b, c):\n",
    "    if a > b:\n",
    "        if b > c:\n",
    "            # case: a > b > c\n",
    "            result = a + b - 10 * c\n",
    "            print(f\"Result: {result} (a > b > c)\")\n",
    "        else:\n",
    "            if a > c:\n",
    "                # case: a > c >= b\n",
    "                result = a + c - 10 * b\n",
    "                print(f\"Result: {result} (a > c >= b)\")\n",
    "            else:\n",
    "                # case: c >= a > b\n",
    "                result = c + a - 10 * b\n",
    "                print(f\"Result: {result} (c >= a > b)\")\n",
    "    else:\n",
    "        if b > c:\n",
    "            if a > c:\n",
    "                # case: b > a > c\n",
    "                result = b + a - 10 * c\n",
    "                print(f\"Result: {result} (b > a > c)\")\n",
    "            else:\n",
    "                # case: b > c >= a\n",
    "                result = b + c - 10 * a\n",
    "                print(f\"Result: {result} (b > c >= a)\")\n",
    "        else:\n",
    "            # case: c >= b >= a\n",
    "            result = c + b - 10 * a\n",
    "            print(f\"Result: {result} (c >= b >= a)\")\n",
    "\n",
    "# Test with a = 10, b = 5, c = 1\n",
    "Print_values(10, 5, 1)"
   ]
  },
  {
   "cell_type": "code",
   "execution_count": 3,
   "id": "649babd3-708f-4ad7-a64e-2cd618e169b9",
   "metadata": {},
   "outputs": [
    {
     "name": "stdout",
     "output_type": "stream",
     "text": [
      "[33, 45, 61]\n"
     ]
    }
   ],
   "source": [
    "import math\n",
    "\n",
    "a = {1: 1}  # Base case: F(1) = 1\n",
    "\n",
    "def F(x):\n",
    "    if x in a:\n",
    "        return a[x]\n",
    "    else:\n",
    "        a[x] = F(math.ceil(x / 3)) + 2 * x\n",
    "        return a[x]\n",
    "\n",
    "def compute_values(lst):\n",
    "    return [F(x) for x in lst]\n",
    "\n",
    "# Example usage:\n",
    "lst = [10, 15, 20]  # Input list\n",
    "result = compute_values(lst)\n",
    "print(result)"
   ]
  },
  {
   "cell_type": "code",
   "execution_count": 5,
   "id": "a1924826-ba57-446d-bd41-a90e0bc9cb0f",
   "metadata": {},
   "outputs": [
    {
     "name": "stdout",
     "output_type": "stream",
     "text": [
      "The sum 35 yields the maximum number of ways: 4395456\n"
     ]
    }
   ],
   "source": [
    "def Find_number_of_ways(n, x):\n",
    "    dp = [[0] * (x + 1) for _ in range(n + 1)]\n",
    "    dp[0][0] = 1 \n",
    "    \n",
    "    for i in range(1, n + 1):\n",
    "        for j in range(1, x + 1):\n",
    "            dp[i][j] = sum(dp[i-1][j-k] for k in range(1, 7) if j - k >= 0)\n",
    "    \n",
    "    return dp[n][x]\n",
    "\n",
    "def Find_max_number_of_ways():\n",
    "    Number_of_ways = [] \n",
    "    n = 10 \n",
    "    for x in range(10, 61):\n",
    "        ways = Find_number_of_ways(n, x)\n",
    "        Number_of_ways.append(ways)\n",
    "    \n",
    "    max_ways = max(Number_of_ways)\n",
    "    max_x = 10 + Number_of_ways.index(max_ways)\n",
    "    \n",
    "    return Number_of_ways, max_x, max_ways\n",
    "\n",
    "# Example usage:\n",
    "Number_of_ways, max_x, max_ways = Find_max_number_of_ways()\n",
    "print(f\"The sum {max_x} yields the maximum number of ways: {max_ways}\")"
   ]
  },
  {
   "cell_type": "code",
   "execution_count": 11,
   "id": "7435ef68-6c4a-4254-b8ed-b89d67822ba2",
   "metadata": {},
   "outputs": [
    {
     "name": "stdout",
     "output_type": "stream",
     "text": [
      "随机生成的数组:  [7, 3, 10, 3, 0]\n",
      "所有子集平均值的总和:  8.0\n"
     ]
    },
    {
     "data": {
      "image/png": "[encoded data removed]",
      "text/plain": [
       "<Figure size 640x480 with 1 Axes>"
      ]
     },
     "metadata": {},
     "output_type": "display_data"
    }
   ],
   "source": [
    "import random\n",
    "\n",
    "def Random_integer(N):\n",
    "    return [random.randint(0, 10) for _ in range(N)]\n",
    "\n",
    "array = Random_integer(5)\n",
    "print(\"随机生成的数组: \", array)\n",
    "\n",
    "def Sum_averages(array):\n",
    "    N = len(array)\n",
    "    if N == 0:\n",
    "        return 0\n",
    "    total_sum = sum(array)\n",
    "    return (total_sum * (2**(N-1))) / N\n",
    "\n",
    "array = [1, 2, 3]\n",
    "print(\"所有子集平均值的总和: \", Sum_averages(array)) \n",
    "import matplotlib.pyplot as plt\n",
    "\n",
    "Total_sum_averages = []\n",
    "\n",
    "for N in range(1, 101):\n",
    "    array = Random_integer(N)  \n",
    "    total_sum = Sum_averages(array) \n",
    "    Total_sum_averages.append(total_sum)  \n",
    "\n",
    "# 绘制 Total_sum_averages\n",
    "plt.plot(range(1, 101), Total_sum_averages, marker='o')\n",
    "plt.title('Sum of Averages of Subsets for N from 1 to 100')\n",
    "plt.xlabel('N (Array Size)')\n",
    "plt.ylabel('Sum of Averages')\n",
    "plt.grid(True)\n",
    "plt.show()"
   ]
  },
  {
   "cell_type": "code",
   "execution_count": 31,
   "id": "88445995-dea8-472e-8b68-a69dff430013",
   "metadata": {},
   "outputs": [
    {
     "name": "stdout",
     "output_type": "stream",
     "text": [
      "The mean number of paths over 1000 trials is: 0.357\n"
     ]
    }
   ],
   "source": [
    "import random\n",
    "import numpy as np\n",
    "\n",
    "def create_matrix(N, M):\n",
    "    matrix = np.random.randint(0, 2, size=(N, M)) \n",
    "    matrix[0][0] = 1  \n",
    "    matrix[N-1][M-1] = 1  \n",
    "    return matrix\n",
    "\n",
    "def Count_path(matrix, N, M):\n",
    "    dp = [[0] * M for _ in range(N)]\n",
    "    \n",
    "    if matrix[0][0] == 0:\n",
    "        return 0\n",
    "    \n",
    "    dp[0][0] = 1\n",
    "    \n",
    "    for i in range(N):\n",
    "        for j in range(M):\n",
    "            if matrix[i][j] == 1:  \n",
    "                if i > 0:\n",
    "                    dp[i][j] += dp[i-1][j]\n",
    "                if j > 0:\n",
    "                    dp[i][j] += dp[i][j-1]\n",
    "\n",
    "    return dp[N-1][M-1]\n",
    "\n",
    "def run_simulation(N, M, num_trials):\n",
    "    total_paths = []\n",
    "    for _ in range(num_trials):\n",
    "        matrix = create_matrix(N, M)  \n",
    "        paths = Count_path(matrix, N, M)  \n",
    "        total_paths.append(paths)\n",
    "    \n",
    "    mean_paths = np.mean(total_paths)\n",
    "    return mean_paths, total_paths\n",
    "\n",
    "# Example usage\n",
    "N = 10\n",
    "M = 8\n",
    "num_trials = 1000\n",
    "\n",
    "mean_paths, all_paths = run_simulation(N, M, num_trials)\n",
    "print(f\"The mean number of paths over {num_trials} trials is: {mean_paths}\")"
   ]
  }
 ],
 "metadata": {
  "kernelspec": {
   "display_name": "Python 3 (ipykernel)",
   "language": "python",
   "name": "python3"
  },
  "language_info": {
   "codemirror_mode": {
    "name": "ipython",
    "version": 3
   },
   "file_extension": ".py",
   "mimetype": "text/x-python",
   "name": "python",
   "nbconvert_exporter": "python",
   "pygments_lexer": "ipython3",
   "version": "3.12.4"
  }
 },
 "nbformat": 4,
 "nbformat_minor": 5
}
